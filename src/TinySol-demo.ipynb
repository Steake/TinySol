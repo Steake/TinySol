
{
 "cells": [
  {
   "cell_type": "markdown",
   "metadata": {},
   "source": [
    "# Demo of Lexer, Parser, and BrainfuckCodeGenerator\n",
    "\n",
    "This notebook demonstrates the usage of the Lexer, Parser, and BrainfuckCodeGenerator classes implemented in `full_program.py`.\n",
    "\n",
    "We will process a simple source code input and generate the corresponding Brainfuck code."
   ]
  },
  {
   "cell_type": "code",
   "execution_count": 1,
   "metadata": {},
   "outputs": [],
   "source": [
    "%run full_program.py"
   ]
  },
  {
   "cell_type": "code",
   "execution_count": 2,
   "metadata": {},
   "outputs": [],
   "source": [
    "# Test input\n",
    "source_code = \"int x = 10;\"\n",
    "lexer = Lexer(source_code)\n",
    "tokens = lexer.tokenize()\n",
    "parser = Parser(tokens)\n",
    "ast = parser.parse()\n",
    "code_generator = BrainfuckCodeGenerator(ast)\n",
    "\n",
    "brainfuck_code = code_generator.generate()\n",
    "print(brainfuck_code) # Should print the resulting Brainfuck code (here it is the AST string representation)"
   ]
  },
  {
   "cell_type": "code",
   "execution_count": 3,
   "metadata": {},
   "outputs": [],
   "source": [
    "# Add additional demonstrations as required\n"
   ]
  }
 ],
 "metadata": {
  "kernelspec": {
   "display_name": "Python 3 (ipykernel)",
   "language": "python",
   "name": "python3"
  },
  "language_info": {
   "codemirror_mode": {
    "name": "ipython",
    "version": 3
   },
   "file_extension": ".py",
   "mimetype": "text/x-python",
   "name": "python",
   "nbconvert_exporter": "python",
   "pygments_lexer": "ipython3",
   "version": "3.8.5"
  }
 },
 "nbformat": 4,
 "nbformat_minor": 5
}
